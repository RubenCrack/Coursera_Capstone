{
 "cells": [
  {
   "cell_type": "markdown",
   "metadata": {},
   "source": [
    "# \"Analysis and location of Technical Service venues for computers and laptops in Lima, Peru\"."
   ]
  },
  {
   "cell_type": "markdown",
   "metadata": {},
   "source": [
    "## 1. Introduction"
   ]
  },
  {
   "cell_type": "markdown",
   "metadata": {},
   "source": [
    "#### Lima is the capital and the most populous city in the Republic of Peru, it is located on the central coast of the country, on the shores of the Pacific Ocean, with some 11 million inhabitants representing 32% of the Peruvian population. It was founded on January 18, 1535 with the name of the City of Kings by the Spanish conquistador Francisco Pizarro. Both the city of Lima and those of the interior of the country have a gastronomic, cultural, mining and cultivation wealth.\n",
    "\n",
    "#### Metropolitan Lima is divided into 50 districts in total, where the province of Lima has 43 districts and the constitutional province of Callao with 7 districts. It is also organized in cones or axes of the city: North Lima, Downtown Lima, Modern Lima, East Lima, South Lima, Callao and health resort.\n",
    "\n",
    "#### Currently in the world, the Covid-19 pandemic or also known as the coronavirus pandemic, has caused the death of innocent and defenseless people, regardless of social condition, health damage, job dismissal and damage to the economy of many countries like mine.\n",
    "\n",
    "#### As part of the measures to prevent the spread and contagion, the authorities of my country have ordered compulsory social isolation at home, in this way families have changed: their consumption habits, remote work, online classes for children, services delivery, use of streaming platforms (for example Netflix, Youtube, Spotify, etc.), learning platforms and others. That make the purchase, repair of computer equipment, laptops, tablets, printers and mobile phones necessary.\n",
    "\n",
    "#### Given this reality, it is necessary to found venues close and strategic of technical service for repair computers, laptops, printers, and the sale of computer accessories. The service is regulated under strict security and cleaning protocols established by the government.\n",
    "\n",
    "#### Reason why taking advantage of the location data of Foursquare would help families to solve this problem of having a technical service nearby and at the same time the opportunity to invest in a similar business where this service does not exist, especially in the districts with higher incomes economic."
   ]
  },
  {
   "cell_type": "markdown",
   "metadata": {},
   "source": [
    "## 2. Data Description"
   ]
  },
  {
   "cell_type": "markdown",
   "metadata": {},
   "source": [
    "#### To consider the problem I can list the datas as below:\n",
    "\n",
    "#### * INEI: National Institute of Statistics and Informatics, which is an autonomous constitutional body of Peru. He is also in charge of population, housing, business, agrarian, university, etc. censuses.\n",
    "(https://www.inei.gob.pe/)\n",
    "\n",
    "#### * CPI: Peruvian company dedicated to research, market research and public opinion.\n",
    "(http://cpi.pe/)\n",
    "\n",
    "#### * APEIM: Peruvian Association of Market Intelligence Companies is a non-profit association that groups market research and public opinion companies with the purpose of promoting, developing, protecting and defending market research activity in Peru.\n",
    "(http://apeim.com.pe/)\n",
    "\n",
    "#### * Forsquare API: To get the closest places to locate technical service for computers, laptops, printers and accessories.\n",
    "(https://foursquare.com/)\n",
    "\n",
    "#### * Geodata: It allows obtaining the latitude and longitude of a point in the world.\n",
    "(https://www.geodatos.net/)"
   ]
  }
 ],
 "metadata": {
  "kernelspec": {
   "display_name": "Python",
   "language": "python",
   "name": "conda-env-python-py"
  },
  "language_info": {
   "codemirror_mode": {
    "name": "ipython",
    "version": 3
   },
   "file_extension": ".py",
   "mimetype": "text/x-python",
   "name": "python",
   "nbconvert_exporter": "python",
   "pygments_lexer": "ipython3",
   "version": "3.6.10"
  }
 },
 "nbformat": 4,
 "nbformat_minor": 4
}
